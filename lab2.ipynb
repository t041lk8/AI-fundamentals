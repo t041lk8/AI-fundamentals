{
 "cells": [
  {
   "cell_type": "markdown",
   "metadata": {},
   "source": [
    "# Лабораторная работа №2 \"Глобальная оптимизация и метаэврестические алгоритмы\""
   ]
  },
  {
   "cell_type": "code",
   "execution_count": 7,
   "metadata": {},
   "outputs": [],
   "source": [
    "import pygmo as pg\n",
    "import numpy as np\n",
    "import pandas as pd"
   ]
  },
  {
   "cell_type": "code",
   "execution_count": 2,
   "metadata": {},
   "outputs": [],
   "source": [
    "# 1. Реализация функции Розенброка\n",
    "class Rosenbrock:\n",
    "    def fitness(self, x):\n",
    "        return [sum(100.0 * (x[i + 1] - x[i] ** 2) ** 2 + (1 - x[i]) ** 2 for i in range(len(x) - 1))]\n",
    "\n",
    "    def get_bounds(self):\n",
    "        return ([-5] * 2, [5] * 2)  # Границы поиска для 2-х мерной задачи"
   ]
  },
  {
   "cell_type": "code",
   "execution_count": 3,
   "metadata": {},
   "outputs": [],
   "source": [
    "# 1. Реализация функции Била\n",
    "class Beale:\n",
    "    def fitness(self, x):\n",
    "        return [(1.5 - x[0] + x[0] * x[1]) ** 2 +\n",
    "                (2.25 - x[0] + x[0] * x[1] ** 2) ** 2 +\n",
    "                (2.625 - x[0] + x[0] * x[1] ** 3) ** 2]\n",
    "\n",
    "    def get_bounds(self):\n",
    "        return ([-4.5, -4.5], [4.5, 4.5])  # Границы поиска для функции Била"
   ]
  },
  {
   "cell_type": "code",
   "execution_count": 4,
   "metadata": {},
   "outputs": [],
   "source": [
    "# 2. Выбор оптимизационных алгоритмов\n",
    "algorithms = [\n",
    "    (\"DE\", pg.de(gen=100)),                 # Дифференциальная эволюция\n",
    "    (\"PSO\", pg.pso(gen=100)),               # Рой частиц\n",
    "    (\"SA\", pg.simulated_annealing())        # Метрополис-Симулированный Отжиг\n",
    "]"
   ]
  },
  {
   "cell_type": "code",
   "execution_count": 5,
   "metadata": {},
   "outputs": [],
   "source": [
    "# 3. Функция для оптимизации и сбора результатов\n",
    "def optimize(problem, algo_name, algo, n_trials=5):\n",
    "    results = []\n",
    "    for _ in range(n_trials):\n",
    "        prob = pg.problem(problem)\n",
    "        algo_instance = pg.algorithm(algo)\n",
    "        algo_instance.set_verbosity(0)\n",
    "        pop = pg.population(prob, size=10)\n",
    "        pop = algo_instance.evolve(pop)\n",
    "        best_fitness = pop.champion_f\n",
    "        results.append(best_fitness[0])\n",
    "    return {\n",
    "        \"Algorithm\": algo_name,\n",
    "        \"Mean Fitness\": np.mean(results),\n",
    "        \"Std Dev Fitness\": np.std(results),\n",
    "        \"Best Fitness\": np.min(results),\n",
    "    }"
   ]
  },
  {
   "cell_type": "code",
   "execution_count": 8,
   "metadata": {},
   "outputs": [
    {
     "name": "stdout",
     "output_type": "stream",
     "text": [
      "  Algorithm  Mean Fitness  Std Dev Fitness  Best Fitness     Problem\n",
      "0        DE  6.037461e-08     3.500192e-08  1.124985e-08  Rosenbrock\n",
      "1       PSO  6.852220e-03     1.076968e-02  1.035341e-04  Rosenbrock\n",
      "2        SA  3.855168e-01     1.194751e-01  1.975380e-01  Rosenbrock\n",
      "3        DE  3.719187e-08     2.122698e-08  1.065927e-08       Beale\n",
      "4       PSO  4.216632e-08     2.713943e-08  5.122929e-09       Beale\n",
      "5        SA  2.803293e-01     5.195221e-01  1.396596e-03       Beale\n"
     ]
    }
   ],
   "source": [
    "problems = {\n",
    "    \"Rosenbrock\": Rosenbrock(),\n",
    "    \"Beale\": Beale(),\n",
    "}\n",
    "\n",
    "results = []\n",
    "\n",
    "for problem_name, problem_instance in problems.items():\n",
    "    for algo_name, algo in algorithms:\n",
    "        result = optimize(problem_instance, algo_name, algo)\n",
    "        result[\"Problem\"] = problem_name\n",
    "        results.append(result)\n",
    "\n",
    "# Преобразование результатов в таблицу\n",
    "results_df = pd.DataFrame(results)\n",
    "\n",
    "# Печать таблицы результатов\n",
    "print(results_df)"
   ]
  }
 ],
 "metadata": {
  "kernelspec": {
   "display_name": "base",
   "language": "python",
   "name": "python3"
  },
  "language_info": {
   "codemirror_mode": {
    "name": "ipython",
    "version": 3
   },
   "file_extension": ".py",
   "mimetype": "text/x-python",
   "name": "python",
   "nbconvert_exporter": "python",
   "pygments_lexer": "ipython3",
   "version": "3.12.7"
  }
 },
 "nbformat": 4,
 "nbformat_minor": 2
}
